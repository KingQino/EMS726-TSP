{
 "cells": [
  {
   "cell_type": "markdown",
   "id": "667thOJhvv2S",
   "metadata": {
    "id": "667thOJhvv2S"
   },
   "source": [
    "# Traveling Salesman Problem\n",
    "\n",
    "## Objective and Prerequisites\n",
    "\n",
    "In this example, you’ll learn how to tackle one of the most famous combinatorial optimization problems in existence: the Traveling Salesman Problem (TSP). The goal of the TSP – to find the shortest possible route that visits each city once and returns to the original city – is simple, but solving the problem is a complex and challenging endeavor. We’ll show you how to do it!\n",
    "\n",
    "This modeling example is at the advanced level, where we assume that you know Python and the Gurobi Python API and that you have advanced knowledge of building mathematical optimization models. Typically, the objective function and/or constraints of these examples are complex or require advanced features of the Gurobi Python API.\n",
    "\n",
    "**Gurobi Offical TSP demo** <br />\n",
    "You can find the offical example by clicking [here](https://gurobi.github.io/modeling-examples/traveling_salesman/)."
   ]
  },
  {
   "cell_type": "markdown",
   "id": "BJqXJlGEvv-Y",
   "metadata": {
    "id": "BJqXJlGEvv-Y"
   },
   "source": [
    "## Motivation\n",
    "\n",
    "The Traveling Salesman Problem (TSP) is one of the most famous combinatorial optimization problems. This problem is very easy to explain, but very complicated to solve – even for instances with a small number of cities. More detailed information on the TSP can be found in the book The Traveling Salesman Problem: A Computational Study [1], or at the TSP home page [2]. If you are interested in the history and mathematical background of the TSP, we recommend that you watch the video by William Cook [3].\n",
    "\n",
    "The origin of the traveling salesman problem is not very clear; it is mentioned in an 1832 manual for traveling salesman, which included example tours of 45 German cities but was not formulated as a mathematical problem. However, in the 1800s, mathematicians William Rowan Hamilton and Thomas Kirkman devised mathematical formulations of the problem.\n",
    "\n",
    "It seems that the general form of the Traveling Salesman Problem was first studied by Karl Menger in Vienna and Harvard in the 1930s.\n",
    "\n",
    "The problem became more and more popular in the 1950s and 1960s. In particular, George Dantzig, D. Ray Fulkerson, and Selmer M. Johnson at the RAND Corporation solved the 48-state problem by formulating it as a linear programming problem. The methods they described in their paper on this topic set the foundation for future work in combinatorial optimization, especially highlighting the importance of cutting planes.\n",
    "\n",
    "In the early 1970s, the concept of P vs. NP problems created excitement in the theoretical computer science community. In 1972, Richard Karp demonstrated that the Hamiltonian cycle problem was NP-complete, implying that the traveling salesman problem was NP-hard.\n",
    "\n",
    "Increasingly sophisticated codes led to rapid increases in the sizes of the traveling salesman problems solved. Dantzig, Fulkerson, and Johnson had solved a 48-city instance of the problem in 1954. Martin Grötschel more than doubled this 23 years later, solving a 120-city instance in 1977. Harlan Crowder and Manfred W. Padberg again more than doubled this in just 3 years, with a 318-city solution.\n",
    "\n",
    "In 1987, rapid improvements were made, culminating in a 2,392-city solution by Padberg and Giovanni Rinaldi. In the following two decades, great strides were made with David L. Applegate, Robert E. Bixby, Vasek Chvátal, & William J. Cook solving a 3,308-city instance in 1992, a 7,397-city instance in 1994, a 24,978-city instance in 2004, and an 85,900-city instance in 2006 – which is the largest 2-D Euclidean TSP instance ever solved. William Cook et. al. wrote a program called Concorde TSP Solver for solving the TSP [4]. Concorde is a computer code for the symmetric TSP and some related network optimization problems. The code is written in the ANSI C programming language and it has been used to obtain the optimal solutions to the full set of 110 TSPLIB instances, the largest instance is a 109,399 node 3-D “star” instance.\n",
    "\n",
    "The continued interest in the TSP can be explained by its success as a general engine of discovery and a steady stream of new applications. Some of the general applications of the TSP are as follows:\n",
    "* Scheduling and routing problems.\n",
    "* Genome sequencing.\n",
    "* Drilling problems.\n",
    "* Aiming telescopes and x-rays.\n",
    "* Data clustering.\n",
    "* Machine scheduling.\n",
    "\n",
    "We use this classic combinatorial optimization problem to demonstrate how Gurobi can be used to easily and effectively solve small-sized problem instances of the TSP. However, in order to be able to solve larger instances, one needs more sophisticated techniques – such as those implemented in the Concord TSP Solver."
   ]
  },
  {
   "cell_type": "markdown",
   "id": "jVnmHQ1vwr61",
   "metadata": {
    "id": "jVnmHQ1vwr61"
   },
   "source": [
    "## Problem Description\n",
    "The TSP can be defined as follows: for a given list of cities and the distances between each pair of them, we want to find the shortest possible route that goes to each city once and returns to the origin city.\n",
    "\n",
    "There is a class of Traveling Salesman Problems that assumes that the distance of going from city $i$ to city $j$  is the same as going form city $j$ to city $i$, this type of Traveling Salesman Problem  is also known as the symmetric Traveling Salesman Problem. In this example, we use Euclidean distances, but the TSP model formulation is valid independent of the way in which the individual distances are determined.\n",
    "\n",
    "\n",
    "## Solution Approach\n",
    "\n",
    "Mathematical programming is a declarative approach where the modeler formulates a mathematical optimization model that captures the key aspects of a complex decision problem. The Gurobi Optimizer solves such models using state-of-the-art mathematics and computer science.\n",
    "\n",
    "A mathematical optimization model has five components, namely:\n",
    "\n",
    "* Sets and indices.\n",
    "* Parameters.\n",
    "* Decision variables.\n",
    "* Objective function(s).\n",
    "* Constraints.\n",
    "\n",
    "We now present a MIP formulation of the TSP that identifies the shortest route that goes to all the cities once and returns to the origin city.\n",
    "\n",
    "## TSP Model Formulation\n",
    "\n",
    "### Sets and Indices\n",
    "$i, j \\in Capitals $: indices and set of US capital cities.\n",
    "\n",
    "$\\text{Pairings}= \\{(i,j) \\in Capitals \\times Capitals \\}$: Set of allowed pairings\n",
    "\n",
    "$S \\subset Capitals$: A subset of the set of US capital cities.\n",
    "\n",
    "$G = (Capitals, Pairings)$: A graph where the set $Capitals$ defines the set of nodes and the set $Pairings$ defines the set of edges.\n",
    "\n",
    "### Parameters\n",
    "\n",
    "$d_{i, j} \\in \\mathbb{R}^+$: Distance from capital city $i$ to capital city $j$, for all $(i, j) \\in Pairings$.\n",
    "\n",
    "Notice that the distance from capital city $i$ to capital city $j$ is the same as the distance from capital city $j$ to capital city $i$, i.e. $d_{i, j} = d_{j, i}$. For this reason, this TSP is also called the symmetric Traveling Salesman Problem.\n",
    "\n",
    "### Decision Variables\n",
    "$x_{i, j} \\in \\{0, 1\\}$: This variable is equal to 1, if we decide to connect city $i$ with city $j$. Otherwise, the decision variable is equal to zero.\n",
    "\n",
    "### Objective Function\n",
    "- **Shortest Route**. Minimize the total distance of a route. A route is a sequence of capital cities where the salesperson visits each city only once and returns to the starting capital city.\n",
    "\n",
    "\\begin{equation}\n",
    "\\text{Min} \\quad Z = \\sum_{(i,j) \\in \\text{Pairings}}d_{i,j} \\cdot x_{i,j}\n",
    "\\tag{0}\n",
    "\\end{equation}\n",
    "\n",
    "### Constraints\n",
    "- **Symmetry Constraints**. For each edge $(i,j)$, ensure that the city capitals $i$ and $j$ are connected, if the former is visited immediately before or after visiting the latter.\n",
    "\n",
    "\\begin{equation}\n",
    "x_{i, j} = x_{j, i} \\quad \\forall (i, j) \\in Pairings\n",
    "\\tag{1}\n",
    "\\end{equation}\n",
    "\n",
    "- **Entering and leaving a capital city**. For each capital city $i$, ensure that this city is connected to two other cities.\n",
    "\n",
    "\\begin{equation}\n",
    "\\sum_{(i,j) \\in \\text{Pairings}}x_{i,j} = 2 \\quad \\forall  i \\in Capitals\n",
    "\\tag{2}\n",
    "\\end{equation}\n",
    "\n",
    "- **Subtour elimination**. These constraints ensure that for any subset of cities $S$ of the set of $Capitals$, there is no cycle. That is, there is no route that visits all the cities in the subset and returns to the origin city.\n",
    "\n",
    "\\begin{equation}\n",
    "\\sum_{(i \\neq j) \\in S}x_{i,j} \\leq |S|-1 \\quad \\forall  S \\subset  Capitals\n",
    "\\tag{3}\n",
    "\\end{equation}\n",
    "\n",
    "- **Remark**. In general, if the number of cities of the TSP is $n$, then the possible number of routes is n\\!.\n",
    "Since there are an exponential number of constraints ($2^{n} - 2$) to eliminate cycles, we use lazy constraints to dynamically eliminate those cycles."
   ]
  },
  {
   "cell_type": "markdown",
   "id": "PlvyBf1oxT8l",
   "metadata": {
    "id": "PlvyBf1oxT8l"
   },
   "source": [
    "## References\n",
    "\n",
    "[1] D. L. Applegate, R. E. Bixby, V. Chvatal and W. J. Cook , The Traveling Salesman Problem: A Computational Study, Princeton University Press, Princeton, 2006.\n",
    "\n",
    "[2] http://www.math.uwaterloo.ca/tsp/index.html\n",
    "\n",
    "[3] https://www.youtube.com/watch?v=q8nQTNvCrjE&t=35s\n",
    "\n",
    "[4] http://www.math.uwaterloo.ca/tsp/concorde.html"
   ]
  },
  {
   "cell_type": "markdown",
   "id": "24c59e66",
   "metadata": {
    "id": "24c59e66"
   },
   "source": [
    "# Traveling Salesman Problem (TSP) on UK Pubs with Gurobi\n",
    "This notebook demonstrates how to solve the TSP on a real-world dataset of **[24,727 UK pubs](https://www.math.uwaterloo.ca/tsp/pubs/)**, aiming to find the shortest possible walking tour across the United Kingdom.\n",
    "\n",
    "We will:\n",
    "- Configure a **Gurobi WLS (Web License Service) academic license** programmatically\n",
    "- Load the UK pubs dataset (`uk24727_geom.tsp`)\n",
    "- Randomly sample 50 / 100 / 200 / 500/ 1000 nodes (we will run 100 as an example)\n",
    "- Build a Gurobi TSP model with lazy subtour elimination\n",
    "- Plot the resulting tour on an interactive **Folium** map\n",
    "\n"
   ]
  },
  {
   "cell_type": "markdown",
   "id": "a68942da",
   "metadata": {
    "id": "a68942da"
   },
   "source": [
    "## 1) Gurobi License configuration (WLS Academic)\n",
    "To run large models, you need a valid Gurobi Academic WLS license. Please refers to **[Gurobi License Application Guide](<./Gurobi License Application Guide.md>)** to obtain a `gurobi.lic` file.\n",
    "\n",
    "\n",
    "**Upload your License:** upload your `gurobi.lic` file to the Colab drive.\n",
    "\n",
    "\n",
    "![upload-to-colab](images/upload-to-colab.png)"
   ]
  },
  {
   "cell_type": "code",
   "execution_count": 3,
   "id": "wBGVdaVs-Mt6",
   "metadata": {
    "colab": {
     "base_uri": "https://localhost:8080/"
    },
    "executionInfo": {
     "elapsed": 11025,
     "status": "ok",
     "timestamp": 1756113861372,
     "user": {
      "displayName": "Yinghao Qin",
      "userId": "01437109327367486910"
     },
     "user_tz": -60
    },
    "id": "wBGVdaVs-Mt6",
    "outputId": "5ba3abf7-cd6a-4c2d-8565-f81e88abd71a"
   },
   "outputs": [
    {
     "name": "stdout",
     "output_type": "stream",
     "text": [
      "Requirement already satisfied: gurobipy in /Users/yhq/miniconda/envs/blue_sky_01/lib/python3.9/site-packages (12.0.3)\n",
      "Note: you may need to restart the kernel to use updated packages.\n"
     ]
    }
   ],
   "source": [
    "%pip install gurobipy"
   ]
  },
  {
   "cell_type": "code",
   "execution_count": 4,
   "id": "c38270a7",
   "metadata": {
    "colab": {
     "base_uri": "https://localhost:8080/",
     "height": 177
    },
    "executionInfo": {
     "elapsed": 5114,
     "status": "ok",
     "timestamp": 1756119877443,
     "user": {
      "displayName": "Yinghao Qin",
      "userId": "01437109327367486910"
     },
     "user_tz": -60
    },
    "id": "c38270a7",
    "outputId": "ab9fa05e-25ea-43c5-aebd-f29f5c9812be"
   },
   "outputs": [
    {
     "ename": "ModuleNotFoundError",
     "evalue": "No module named 'google'",
     "output_type": "error",
     "traceback": [
      "\u001b[0;31m---------------------------------------------------------------------------\u001b[0m",
      "\u001b[0;31mModuleNotFoundError\u001b[0m                       Traceback (most recent call last)",
      "Cell \u001b[0;32mIn[4], line 11\u001b[0m\n\u001b[1;32m      1\u001b[0m \u001b[38;5;66;03m# ================================================================\u001b[39;00m\n\u001b[1;32m      2\u001b[0m \u001b[38;5;66;03m# Gurobi License Configuration (WLS Academic License)\u001b[39;00m\n\u001b[1;32m      3\u001b[0m \u001b[38;5;66;03m# ================================================================\u001b[39;00m\n\u001b[0;32m   (...)\u001b[0m\n\u001b[1;32m      8\u001b[0m \u001b[38;5;66;03m# https://support.gurobi.com/hc/en-us/articles/13232844297489-How-do-I-set-up-a-Web-License-Service-WLS-license\u001b[39;00m\n\u001b[1;32m      9\u001b[0m \u001b[38;5;66;03m# ================================================================\u001b[39;00m\n\u001b[0;32m---> 11\u001b[0m \u001b[38;5;28;01mfrom\u001b[39;00m\u001b[38;5;250m \u001b[39m\u001b[38;5;21;01mgoogle\u001b[39;00m\u001b[38;5;21;01m.\u001b[39;00m\u001b[38;5;21;01mcolab\u001b[39;00m\u001b[38;5;250m \u001b[39m\u001b[38;5;28;01mimport\u001b[39;00m files\n\u001b[1;32m     12\u001b[0m \u001b[38;5;28;01mimport\u001b[39;00m\u001b[38;5;250m \u001b[39m\u001b[38;5;21;01mgurobipy\u001b[39;00m\u001b[38;5;250m \u001b[39m\u001b[38;5;28;01mas\u001b[39;00m\u001b[38;5;250m \u001b[39m\u001b[38;5;21;01mgp\u001b[39;00m\n\u001b[1;32m     14\u001b[0m \u001b[38;5;66;03m# Step 1: Upload gurobi.lic\u001b[39;00m\n",
      "\u001b[0;31mModuleNotFoundError\u001b[0m: No module named 'google'"
     ]
    }
   ],
   "source": [
    "# ================================================================\n",
    "# Gurobi License Configuration (WLS Academic License)\n",
    "# ================================================================\n",
    "# Replace the placeholders with YOUR credentials (do NOT share keys publicly).\n",
    "# Students can request free academic licenses here:\n",
    "# https://www.gurobi.com/academia/academic-program-and-licenses/\n",
    "# Docs for WLS setup:\n",
    "# https://support.gurobi.com/hc/en-us/articles/13232844297489-How-do-I-set-up-a-Web-License-Service-WLS-license\n",
    "# ================================================================\n",
    "\n",
    "from google.colab import files\n",
    "import gurobipy as gp\n",
    "\n",
    "# Step 1: Upload gurobi.lic\n",
    "print(\"Please upload gurobi.lic file: \")\n",
    "uploaded = files.upload()\n",
    "lic_path = list(uploaded.keys())[0]  # Get the name of the uploaded file（should be `gurobi.lic`）\n",
    "\n",
    "# Step 2: Parse gurobi.lic\n",
    "def load_gurobi_params(lic_path):\n",
    "    params = {}\n",
    "    with open(lic_path, \"r\") as f:\n",
    "        for line in f:\n",
    "            line = line.strip()\n",
    "            if line and not line.startswith(\"#\"):  # skip comments\n",
    "                key, value = line.split(\"=\")\n",
    "                if key == \"LICENSEID\":\n",
    "                    value = int(value)  # LICENSEID must be integer\n",
    "                params[key] = value\n",
    "    return params\n",
    "\n",
    "params = load_gurobi_params(lic_path)\n",
    "\n",
    "# Step 3: Initialize Gurobi environment\n",
    "env = gp.Env(params=params)\n",
    "print(\"Gurobi version:\", gp.gurobi.version())"
   ]
  },
  {
   "cell_type": "markdown",
   "id": "231e38e0",
   "metadata": {
    "id": "231e38e0"
   },
   "source": [
    "## 2) Imports and helpers"
   ]
  },
  {
   "cell_type": "code",
   "execution_count": null,
   "id": "0270cb6c",
   "metadata": {
    "executionInfo": {
     "elapsed": 7,
     "status": "ok",
     "timestamp": 1756120613279,
     "user": {
      "displayName": "Yinghao Qin",
      "userId": "01437109327367486910"
     },
     "user_tz": -60
    },
    "id": "0270cb6c"
   },
   "outputs": [],
   "source": [
    "import random\n",
    "import math\n",
    "import folium\n",
    "import numpy as np\n",
    "from gurobipy import GRB\n",
    "\n",
    "# For nicer printing\n",
    "def human(n):\n",
    "    return f\"{n:,}\"\n"
   ]
  },
  {
   "cell_type": "markdown",
   "id": "6e3a5cbc",
   "metadata": {
    "id": "6e3a5cbc"
   },
   "source": [
    "## 3) Load UK pubs dataset from TSPLIB-like file"
   ]
  },
  {
   "cell_type": "code",
   "execution_count": null,
   "id": "27a809f0",
   "metadata": {
    "executionInfo": {
     "elapsed": 5,
     "status": "ok",
     "timestamp": 1756120619301,
     "user": {
      "displayName": "Yinghao Qin",
      "userId": "01437109327367486910"
     },
     "user_tz": -60
    },
    "id": "27a809f0"
   },
   "outputs": [],
   "source": [
    "def load_uk_pubs_tsp(file_path: str):\n",
    "    \"\"\"Load coordinates from uk24727_geom.tsp keeping the original node ids.\n",
    "    Returns a dict: {id: (lat, lon)}.\n",
    "    \"\"\"\n",
    "    coords = {}\n",
    "    with open(file_path, 'r') as f:\n",
    "        in_section = False\n",
    "        for line in f:\n",
    "            line = line.strip()\n",
    "            if not line:\n",
    "                continue\n",
    "            if line.startswith(\"NODE_COORD_SECTION\"):\n",
    "                in_section = True\n",
    "                continue\n",
    "            if in_section:\n",
    "                if line == \"EOF\":\n",
    "                    break\n",
    "                parts = line.split()\n",
    "                if len(parts) == 3 and parts[0].isdigit():\n",
    "                    idx, lat, lon = parts\n",
    "                    coords[int(idx)] = (float(lat), float(lon))\n",
    "    return coords\n",
    "\n",
    "# Quick visual sanity-check on a sample (scatter in Folium is done later)\n",
    "def summary(coords: dict):\n",
    "    ids = list(coords.keys())\n",
    "    lats = [coords[i][0] for i in ids]\n",
    "    lons = [coords[i][1] for i in ids]\n",
    "    print(\"Nodes:\", len(ids))\n",
    "    print(\"Lat range:\", (min(lats), max(lats)))\n",
    "    print(\"Lon range:\", (min(lons), max(lons)))\n"
   ]
  },
  {
   "cell_type": "markdown",
   "id": "8292dbdc",
   "metadata": {
    "id": "8292dbdc"
   },
   "source": [
    "## 4) Sampling utilities"
   ]
  },
  {
   "cell_type": "code",
   "execution_count": null,
   "id": "1a8d9f53",
   "metadata": {
    "executionInfo": {
     "elapsed": 2,
     "status": "ok",
     "timestamp": 1756120621283,
     "user": {
      "displayName": "Yinghao Qin",
      "userId": "01437109327367486910"
     },
     "user_tz": -60
    },
    "id": "1a8d9f53"
   },
   "outputs": [],
   "source": [
    "def sample_nodes(coords: dict, n: int, seed: int = 42) -> dict:\n",
    "    random.seed(seed)\n",
    "    chosen = random.sample(list(coords.keys()), n)\n",
    "    return {k: coords[k] for k in chosen}\n",
    "\n",
    "def center_of(coords: dict):\n",
    "    lats = [v[0] for v in coords.values()]\n",
    "    lons = [v[1] for v in coords.values()]\n",
    "    return (float(np.mean(lats)), float(np.mean(lons)))\n",
    "\n",
    "def plot_points_map(coords: dict, title: str = \"Sampled UK Pubs\"):\n",
    "    # Compute center\n",
    "    c_lat, c_lon = center_of(coords)\n",
    "\n",
    "    # Create map\n",
    "    fmap = folium.Map(location=[c_lat, c_lon], zoom_start=6, tiles=\"OpenStreetMap\")\n",
    "\n",
    "    # Add sampled pubs as circle markers\n",
    "    for pid, (lat, lon) in coords.items():\n",
    "        folium.CircleMarker(\n",
    "            location=[lat, lon],\n",
    "            radius=2,\n",
    "            popup=f\"Pub {pid}\",\n",
    "            color=\"blue\",\n",
    "            fill=True,\n",
    "            fill_opacity=0.7\n",
    "        ).add_to(fmap)\n",
    "\n",
    "    # Optional: add a layer control if you plan to overlay multiple layers\n",
    "    folium.LayerControl().add_to(fmap)\n",
    "\n",
    "    return fmap\n"
   ]
  },
  {
   "cell_type": "markdown",
   "id": "0294150c",
   "metadata": {
    "id": "0294150c"
   },
   "source": [
    "## 5) Distance helper"
   ]
  },
  {
   "cell_type": "code",
   "execution_count": null,
   "id": "666ab609",
   "metadata": {
    "executionInfo": {
     "elapsed": 5,
     "status": "ok",
     "timestamp": 1756120623264,
     "user": {
      "displayName": "Yinghao Qin",
      "userId": "01437109327367486910"
     },
     "user_tz": -60
    },
    "id": "666ab609"
   },
   "outputs": [],
   "source": [
    "def euclid_dist(i: int, j: int, coords: dict) -> float:\n",
    "    # Euclidean distance on (lat, lon) as plain coordinates (sufficient for teaching demo).\n",
    "    (lat_i, lon_i) = coords[i]\n",
    "    (lat_j, lon_j) = coords[j]\n",
    "    dx = lat_i - lat_j\n",
    "    dy = lon_i - lon_j\n",
    "    return math.hypot(dx, dy)\n"
   ]
  },
  {
   "cell_type": "markdown",
   "id": "dae496de",
   "metadata": {
    "id": "dae496de"
   },
   "source": [
    "## 6) Subtour detection (for directed arcs)"
   ]
  },
  {
   "cell_type": "code",
   "execution_count": null,
   "id": "b76f3be7",
   "metadata": {
    "executionInfo": {
     "elapsed": 97,
     "status": "ok",
     "timestamp": 1756120625225,
     "user": {
      "displayName": "Yinghao Qin",
      "userId": "01437109327367486910"
     },
     "user_tz": -60
    },
    "id": "b76f3be7"
   },
   "outputs": [],
   "source": [
    "def shortest_subtour(selected_arcs, nodes):\n",
    "    \"\"\"Return the shortest cycle (list of nodes) from a directed 1-in-1-out solution.\n",
    "    selected_arcs: iterable of (i, j) pairs with x[i,j] ~ 1\n",
    "    nodes: list of node ids\n",
    "    \"\"\"\n",
    "    succ = {i: None for i in nodes}\n",
    "    for i, j in selected_arcs:\n",
    "        succ[i] = j\n",
    "\n",
    "    visited = {i: False for i in nodes}\n",
    "    best_cycle = None\n",
    "\n",
    "    for start in nodes:\n",
    "        if visited[start]:\n",
    "            continue\n",
    "        cycle = []\n",
    "        cur = start\n",
    "        while not visited[cur]:\n",
    "            visited[cur] = True\n",
    "            cycle.append(cur)\n",
    "            cur = succ[cur]\n",
    "            if cur is None:\n",
    "                # Shouldn't happen in a feasible solution; break defensively\n",
    "                break\n",
    "        # Close the cycle only if it loops back\n",
    "        if cur in cycle:\n",
    "            # Trim to the actual cycle\n",
    "            idx = cycle.index(cur)\n",
    "            cycle = cycle[idx:]\n",
    "            if best_cycle is None or len(cycle) < len(best_cycle):\n",
    "                best_cycle = cycle\n",
    "\n",
    "    return best_cycle if best_cycle is not None else []\n"
   ]
  },
  {
   "cell_type": "markdown",
   "id": "cebeb0e6",
   "metadata": {
    "id": "cebeb0e6"
   },
   "source": [
    "## 7) Build and solve TSP with lazy subtour elimination"
   ]
  },
  {
   "cell_type": "code",
   "execution_count": null,
   "id": "2e3bc9f9",
   "metadata": {
    "executionInfo": {
     "elapsed": 7,
     "status": "ok",
     "timestamp": 1756120627430,
     "user": {
      "displayName": "Yinghao Qin",
      "userId": "01437109327367486910"
     },
     "user_tz": -60
    },
    "id": "2e3bc9f9"
   },
   "outputs": [],
   "source": [
    "def solve_tsp_with_subtour(sample: dict, env: gp.Env, time_limit: float = None):\n",
    "    nodes = list(sample.keys())\n",
    "    n = len(nodes)\n",
    "\n",
    "    # Distance dict for all ordered pairs i != j\n",
    "    dist = {(i, j): euclid_dist(i, j, sample) for i in nodes for j in nodes if i != j}\n",
    "\n",
    "    # Build model on the provided environment\n",
    "    model = gp.Model(\"tsp_directed\", env=env)\n",
    "    x = model.addVars(dist.keys(), obj=dist, vtype=GRB.BINARY, name=\"x\")\n",
    "    # Degree constraints: 1-out and 1-in\n",
    "    model.addConstrs((gp.quicksum(x[i, j] for j in nodes if j != i) == 1 for i in nodes), name=\"out\")\n",
    "    model.addConstrs((gp.quicksum(x[j, i] for j in nodes if j != i) == 1 for i in nodes), name=\"in\")\n",
    "\n",
    "    if time_limit is not None:\n",
    "        model.Params.TimeLimit = time_limit\n",
    "\n",
    "    # Store variables for callbacks / extraction\n",
    "    model._x = x\n",
    "    model._nodes = nodes\n",
    "    model.Params.LazyConstraints = 1\n",
    "\n",
    "    def callback(m, where):\n",
    "        if where == GRB.Callback.MIPSOL:\n",
    "            vals = m.cbGetSolution(m._x)  # returns dict keyed by (i,j)\n",
    "            selected = [(i, j) for (i, j) in m._x.keys() if vals[i, j] > 0.5]\n",
    "            tour = shortest_subtour(selected, m._nodes)\n",
    "            if tour and len(tour) < len(m._nodes):\n",
    "                # Lazy subtour elimination: Sum_{i in S, j in S} x[i,j] <= |S| - 1\n",
    "                m.cbLazy(gp.quicksum(m._x[i, j] for i in tour for j in tour if i != j) <= len(tour) - 1)\n",
    "\n",
    "    model.optimize(callback)\n",
    "    return model\n"
   ]
  },
  {
   "cell_type": "markdown",
   "id": "e4394afa",
   "metadata": {
    "id": "e4394afa"
   },
   "source": [
    "## 8) Plot the optimal tour on a Folium map"
   ]
  },
  {
   "cell_type": "code",
   "execution_count": null,
   "id": "bdd21615",
   "metadata": {
    "executionInfo": {
     "elapsed": 4,
     "status": "ok",
     "timestamp": 1756120629749,
     "user": {
      "displayName": "Yinghao Qin",
      "userId": "01437109327367486910"
     },
     "user_tz": -60
    },
    "id": "bdd21615"
   },
   "outputs": [],
   "source": [
    "def tour_from_solution(model, sample: dict):\n",
    "    # Use model._x (saved var dict) to avoid 'Model has already been freed' issues\n",
    "    vals = model.getAttr(\"x\", model._x)\n",
    "    selected = [(i, j) for (i, j) in model._x.keys() if vals[i, j] > 0.5]\n",
    "    tour = shortest_subtour(selected, list(sample.keys()))\n",
    "    assert len(tour) == len(sample), \"Subtour found — solution is not a Hamiltonian cycle.\"\n",
    "    return tour\n",
    "\n",
    "def folium_map_for_tour(sample: dict, tour: list):\n",
    "    c_lat, c_lon = center_of(sample)\n",
    "    fmap = folium.Map(location=[c_lat, c_lon], zoom_start=6)\n",
    "\n",
    "    # Build ordered list of points following 'tour'\n",
    "    points = [(sample[i][0], sample[i][1]) for i in tour]\n",
    "    points.append(points[0])  # close the loop\n",
    "\n",
    "    folium.PolyLine(points, weight=3).add_to(fmap)\n",
    "    for pid, (lat, lon) in sample.items():\n",
    "        folium.CircleMarker(location=[lat, lon], radius=2, popup=f\"Pub {pid}\", fill=True).add_to(fmap)\n",
    "    return fmap\n"
   ]
  },
  {
   "cell_type": "markdown",
   "id": "f310aacb",
   "metadata": {
    "id": "f310aacb"
   },
   "source": [
    "## 9) Run a 100-node example"
   ]
  },
  {
   "cell_type": "code",
   "execution_count": null,
   "id": "1b537ed6",
   "metadata": {
    "colab": {
     "base_uri": "https://localhost:8080/",
     "height": 1000
    },
    "executionInfo": {
     "elapsed": 470,
     "status": "ok",
     "timestamp": 1756120633250,
     "user": {
      "displayName": "Yinghao Qin",
      "userId": "01437109327367486910"
     },
     "user_tz": -60
    },
    "id": "1b537ed6",
    "outputId": "46132e0f-15b0-4425-eca3-ccf97aaef4c9"
   },
   "outputs": [],
   "source": [
    "# Ensure the dataset file is available in the current working directory.\n",
    "# If running on Colab, upload 'uk24727_geom.tsp' first.\n",
    "coords_all = load_uk_pubs_tsp('uk24727_geom.tsp')\n",
    "summary(coords_all)\n",
    "\n",
    "sample_100 = sample_nodes(coords_all, 100, seed=42)\n",
    "print(\"Sample size:\", len(sample_100))\n",
    "plot_points_map(sample_100, title=\"100 UK Pubs (sample)\")"
   ]
  },
  {
   "cell_type": "code",
   "execution_count": null,
   "id": "efe2f1e5",
   "metadata": {
    "colab": {
     "base_uri": "https://localhost:8080/"
    },
    "executionInfo": {
     "elapsed": 4363,
     "status": "ok",
     "timestamp": 1756120643594,
     "user": {
      "displayName": "Yinghao Qin",
      "userId": "01437109327367486910"
     },
     "user_tz": -60
    },
    "id": "efe2f1e5",
    "outputId": "aa40702c-2ea5-4de2-9cec-3f6f21abdfb8"
   },
   "outputs": [],
   "source": [
    "# Solve TSP on 100 sampled pubs\n",
    "model_100 = solve_tsp_with_subtour(sample_100, env=env)\n",
    "print(\"\\nStatus:\", model_100.Status, \"(2=Optimal)\")\n",
    "print(\"Objective (tour length):\", model_100.ObjVal)\n",
    "print(f\"Actual runtime: {model_100.Runtime:.2f} seconds\")\n",
    "print(f\"Standardized work units: {model_100.Work:.2f}\")"
   ]
  },
  {
   "cell_type": "code",
   "execution_count": null,
   "id": "8e1baec1",
   "metadata": {
    "colab": {
     "base_uri": "https://localhost:8080/",
     "height": 967
    },
    "executionInfo": {
     "elapsed": 209,
     "status": "ok",
     "timestamp": 1756120654149,
     "user": {
      "displayName": "Yinghao Qin",
      "userId": "01437109327367486910"
     },
     "user_tz": -60
    },
    "id": "8e1baec1",
    "outputId": "5da8160a-0de2-4fcc-9ff9-649d17855d34"
   },
   "outputs": [],
   "source": [
    "# Extract and map the tour\n",
    "tour_100 = tour_from_solution(model_100, sample_100)\n",
    "fmap_100 = folium_map_for_tour(sample_100, tour_100)\n",
    "fmap_100"
   ]
  },
  {
   "cell_type": "code",
   "execution_count": null,
   "id": "6j9RwOTjjBpT",
   "metadata": {
    "executionInfo": {
     "elapsed": 6,
     "status": "ok",
     "timestamp": 1756120671017,
     "user": {
      "displayName": "Yinghao Qin",
      "userId": "01437109327367486910"
     },
     "user_tz": -60
    },
    "id": "6j9RwOTjjBpT"
   },
   "outputs": [],
   "source": []
  },
  {
   "cell_type": "markdown",
   "id": "d753cd43",
   "metadata": {
    "id": "d753cd43"
   },
   "source": [
    "---\n",
    "### (Optional) Try other sizes\n",
    "Uncomment and run these to explore scalability.\n"
   ]
  },
  {
   "cell_type": "code",
   "execution_count": null,
   "id": "56e87bc6",
   "metadata": {
    "id": "56e87bc6"
   },
   "outputs": [],
   "source": [
    "# sample_50 = sample_nodes(coords_all, 50, seed=42)\n",
    "# model_50 = solve_tsp_with_subtour(sample_50, env=env)\n",
    "# tour_50 = tour_from_solution(model_50, sample_50)\n",
    "# folium_map_for_tour(sample_50, tour_50)"
   ]
  },
  {
   "cell_type": "code",
   "execution_count": null,
   "id": "300a6efd",
   "metadata": {
    "id": "300a6efd"
   },
   "outputs": [],
   "source": [
    "# sample_1000 = sample_nodes(coords_all, 1000, seed=42)\n",
    "# model_1000 = solve_tsp_with_subtour(sample_1000, env=env, time_limit=300)  # optional time limit\n",
    "# print(\"Status:\", model_1000.Status, \"Obj:\", model_1000.ObjVal)"
   ]
  },
  {
   "cell_type": "markdown",
   "id": "xa3vv4t9wlVf",
   "metadata": {
    "id": "xa3vv4t9wlVf"
   },
   "source": []
  }
 ],
 "metadata": {
  "colab": {
   "provenance": []
  },
  "kernelspec": {
   "display_name": "blue_sky_01",
   "language": "python",
   "name": "python3"
  },
  "language_info": {
   "codemirror_mode": {
    "name": "ipython",
    "version": 3
   },
   "file_extension": ".py",
   "mimetype": "text/x-python",
   "name": "python",
   "nbconvert_exporter": "python",
   "pygments_lexer": "ipython3",
   "version": "3.9.16"
  }
 },
 "nbformat": 4,
 "nbformat_minor": 5
}
